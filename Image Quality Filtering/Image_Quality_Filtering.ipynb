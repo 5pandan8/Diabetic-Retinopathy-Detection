{
 "cells": [
  {
   "cell_type": "markdown",
   "id": "6f45decf",
   "metadata": {},
   "source": [
    "## Filter bad images"
   ]
  },
  {
   "cell_type": "code",
   "execution_count": null,
   "id": "d60d60b2",
   "metadata": {},
   "outputs": [
    {
     "name": "stderr",
     "output_type": "stream",
     "text": [
      "c:\\Users\\Spandan\\AppData\\Local\\Programs\\Python\\Python312\\Lib\\site-packages\\tqdm\\auto.py:21: TqdmWarning: IProgress not found. Please update jupyter and ipywidgets. See https://ipywidgets.readthedocs.io/en/stable/user_install.html\n",
      "  from .autonotebook import tqdm as notebook_tqdm\n"
     ]
    }
   ],
   "source": [
    "import pandas as pd\n",
    "import numpy as np\n",
    "import cv2\n",
    "import torch\n",
    "from torchvision.transforms import functional as F\n",
    "from PIL import Image\n",
    "import timm\n",
    "import torch\n",
    "import os\n",
    "import joblib"
   ]
  },
  {
   "cell_type": "markdown",
   "id": "59ff51ae",
   "metadata": {},
   "source": [
    "Dataset URL - https://www.kaggle.com/datasets/ascanipek/eyepacs-aptos-messidor-diabetic-retinopathy"
   ]
  },
  {
   "cell_type": "markdown",
   "id": "7c37868b",
   "metadata": {},
   "source": [
    "## Create the excel based on the folder structure of the dataset"
   ]
  },
  {
   "cell_type": "code",
   "execution_count": null,
   "id": "2b204ad8",
   "metadata": {},
   "outputs": [
    {
     "name": "stdout",
     "output_type": "stream",
     "text": [
      "Excel file created with 92501 entries.\n"
     ]
    }
   ],
   "source": [
    "# Define base path\n",
    "base_path = \"./data/dr_unified_v2\"\n",
    "\n",
    "# Prepare list to collect data\n",
    "data = []\n",
    "\n",
    "# Folders to loop through\n",
    "splits = [\"train\", \"val\", \"test\"]\n",
    "\n",
    "# Traverse through each split\n",
    "for split in splits:\n",
    "    split_path = os.path.join(base_path, split)\n",
    "    if not os.path.exists(split_path):\n",
    "        continue\n",
    "    \n",
    "    # Loop through label directories (0, 1, 2, 3, 4)\n",
    "    for label in os.listdir(split_path):\n",
    "        label_path = os.path.join(split_path, label)\n",
    "        if not os.path.isdir(label_path):\n",
    "            continue\n",
    "        \n",
    "        # Loop through images in each label directory\n",
    "        for img_name in os.listdir(label_path):\n",
    "            if img_name.lower().endswith(('.png', '.jpg', '.jpeg', '.bmp', '.tiff', '.gif')):\n",
    "                data.append({\n",
    "                    \"image_name\": img_name,\n",
    "                    \"label\": int(label),\n",
    "                    \"split\": split\n",
    "                })\n",
    "\n",
    "# Create DataFrame\n",
    "df = pd.DataFrame(data)\n",
    "\n",
    "# Save to Excel\n",
    "df.to_excel(\"dr_unified_v2.xlsx\", index=False)\n",
    "\n",
    "print(f\"Excel file created with {len(df)} entries.\")\n"
   ]
  },
  {
   "cell_type": "markdown",
   "id": "5153fee6",
   "metadata": {},
   "source": [
    "## Creating the Image Quality excel"
   ]
  },
  {
   "cell_type": "code",
   "execution_count": null,
   "id": "4bc75fac",
   "metadata": {},
   "outputs": [],
   "source": [
    "# Reading the image excel and renaming the columns\n",
    "df = pd.read_excel(\"./data/dr_unified_v2.xlsx\")\n",
    "df.columns = ['Img_Path', 'Retinopathy_grade', 'Split']"
   ]
  },
  {
   "cell_type": "code",
   "execution_count": null,
   "id": "529f04c6",
   "metadata": {},
   "outputs": [],
   "source": [
    "# Function to load the images from the image path present in the excel\n",
    "def load_image(image_path, label, split):\n",
    "    full_path = f\"./data/dr_unified_v2/{split}/{label}/{image_path}\"\n",
    "    if not os.path.exists(full_path):\n",
    "        raise FileNotFoundError(f\"Image file not found: {full_path}\")\n",
    "    img = cv2.imread(full_path)\n",
    "    if img is None:\n",
    "        raise ValueError(f\"Failed to read image: {full_path}\")\n",
    "    return img"
   ]
  },
  {
   "cell_type": "code",
   "execution_count": null,
   "id": "ac583aa4",
   "metadata": {},
   "outputs": [
    {
     "name": "stderr",
     "output_type": "stream",
     "text": [
      "c:\\Users\\Spandan\\AppData\\Local\\Programs\\Python\\Python312\\Lib\\site-packages\\sklearn\\base.py:380: InconsistentVersionWarning: Trying to unpickle estimator StandardScaler from version 1.2.2 when using version 1.6.1. This might lead to breaking code or invalid results. Use at your own risk. For more info please refer to:\n",
      "https://scikit-learn.org/stable/model_persistence.html#security-maintainability-limitations\n",
      "  warnings.warn(\n",
      "c:\\Users\\Spandan\\AppData\\Local\\Programs\\Python\\Python312\\Lib\\site-packages\\sklearn\\base.py:380: InconsistentVersionWarning: Trying to unpickle estimator SVC from version 1.2.2 when using version 1.6.1. This might lead to breaking code or invalid results. Use at your own risk. For more info please refer to:\n",
      "https://scikit-learn.org/stable/model_persistence.html#security-maintainability-limitations\n",
      "  warnings.warn(\n",
      "c:\\Users\\Spandan\\AppData\\Local\\Programs\\Python\\Python312\\Lib\\site-packages\\sklearn\\base.py:380: InconsistentVersionWarning: Trying to unpickle estimator Pipeline from version 1.2.2 when using version 1.6.1. This might lead to breaking code or invalid results. Use at your own risk. For more info please refer to:\n",
      "https://scikit-learn.org/stable/model_persistence.html#security-maintainability-limitations\n",
      "  warnings.warn(\n"
     ]
    }
   ],
   "source": [
    "# Using the DenseNet model to classify the image in Good, Usable or Bad Quality\n",
    "model = timm.create_model('densenet121.tv_in1k', pretrained=True, num_classes=0)\n",
    "model.eval().cuda()\n",
    "clf = joblib.load('./quickqual_dn121_512.pkl')\n",
    "\n",
    "def getQual(img_path, label, split):\n",
    "    img_test = load_image(img_path, label, split)\n",
    "    img_rgb = cv2.cvtColor(img_test, cv2.COLOR_BGR2RGB)\n",
    "    img_pil = Image.fromarray(img_rgb)\n",
    "    img = F.to_tensor(F.resize(img_pil, 512))\n",
    "    img = F.normalize(img, [0.5] * 3, [0.5] * 3).cuda().unsqueeze(0)\n",
    "    with torch.no_grad():\n",
    "        features = model(img).squeeze().cpu().reshape(1, -1)\n",
    "    pred = clf.predict_proba(features)  # order of class probabilities: Good, Usable, Bad\n",
    "    class_idx = np.argmax(pred[0])\n",
    "    classes = [\"Good\", \"Usable\", \"Bad\"]\n",
    "    return classes[class_idx]"
   ]
  },
  {
   "cell_type": "code",
   "execution_count": null,
   "id": "64704fb3",
   "metadata": {},
   "outputs": [],
   "source": [
    "# Applying the getQual function to each row to get the Quality of Image\n",
    "df[\"Quality\"] = df.apply(lambda row: getQual(row[\"Img_Path\"], row[\"Retinopathy_grade\"], row['Split']), axis=1)"
   ]
  },
  {
   "cell_type": "code",
   "execution_count": 10,
   "id": "faed5c0e",
   "metadata": {},
   "outputs": [
    {
     "data": {
      "text/plain": [
       "Quality\n",
       "Good      41299\n",
       "Bad       37512\n",
       "Usable    13690\n",
       "Name: count, dtype: int64"
      ]
     },
     "execution_count": 10,
     "metadata": {},
     "output_type": "execute_result"
    }
   ],
   "source": [
    "df[\"Quality\"].value_counts()"
   ]
  },
  {
   "cell_type": "code",
   "execution_count": 11,
   "id": "6b9308a1",
   "metadata": {},
   "outputs": [],
   "source": [
    "df.to_excel(\"dr_unified_trainLabel_Quality.xlsx\", index=False)"
   ]
  },
  {
   "cell_type": "code",
   "execution_count": 12,
   "id": "c65b560f",
   "metadata": {},
   "outputs": [],
   "source": [
    "filtered_df = df[df[\"Quality\"].isin([\"Good\", \"Usable\"])]"
   ]
  },
  {
   "cell_type": "code",
   "execution_count": 13,
   "id": "91944774",
   "metadata": {},
   "outputs": [],
   "source": [
    "filtered_df.to_excel(\"dr_unified_dataset_Good_Useable.xlsx\", index=False)"
   ]
  }
 ],
 "metadata": {
  "kernelspec": {
   "display_name": "Python 3",
   "language": "python",
   "name": "python3"
  },
  "language_info": {
   "codemirror_mode": {
    "name": "ipython",
    "version": 3
   },
   "file_extension": ".py",
   "mimetype": "text/x-python",
   "name": "python",
   "nbconvert_exporter": "python",
   "pygments_lexer": "ipython3",
   "version": "3.12.8"
  }
 },
 "nbformat": 4,
 "nbformat_minor": 5
}
